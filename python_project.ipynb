{
 "cells": [
  {
   "cell_type": "code",
   "execution_count": 22,
   "id": "fc979959",
   "metadata": {},
   "outputs": [],
   "source": [
    "import csv\n",
    "\n",
    "ids = []\n",
    "urzadzenia = []\n",
    "naprawy = []\n",
    "ceny = []\n",
    "dane_klientow = {}\n",
    "\n",
    "\n",
    "def dodajNaprawe():\n",
    "    id = int(input(\"Podaj id naprawy: \"))\n",
    "    ids.append(id)\n",
    "    \n",
    "    urzadzenie = input(\"Podaj nazwę urządzenia: \")\n",
    "    urzadzenie.lower()\n",
    "    urzadzenia.append(urzadzenie)\n",
    "    \n",
    "    naprawa = input(\"Podaj rodzaj naprawy: \")\n",
    "    naprawa.lower()\n",
    "    naprawy.append(naprawa)\n",
    "    try:\n",
    "        cena = int(input(\"Podaj cenę naprawy: \"))\n",
    "    except ValueError:\n",
    "        cena = int(input(\"Podaj prawidłową cenę: \"))\n",
    "    else:\n",
    "        ceny.append(cena)\n",
    "        \n",
    "    imie_nazwisko = input(\"Podaj imię i nazwisko klienta: \")\n",
    "    numer_telefonu = input(\"Podaj numer telefonu klienta: \")\n",
    "    \n",
    "\n",
    "    while len(numer_telefonu) != 9:\n",
    "        if len(numer_telefonu) != 9:\n",
    "                numer_telefonu = input(\"Podaj poprawny numer: \")\n",
    "        else:\n",
    "            break\n",
    "    dane_klientow[imie_nazwisko] = numer_telefonu            \n",
    "    print(\"Dodano naprawę.\")\n",
    "            \n",
    "    \n",
    "    with open(\"przeglad.csv\",\"a+\", newline='') as plik:\n",
    "        zapis=csv.writer(plik,delimiter=';')\n",
    "        zapis.writerow([id,urzadzenie,naprawa,cena,imie_nazwisko,numer_telefonu])\n",
    "        \n",
    "        \n",
    "def zapisaneCeny():\n",
    "    for u,n,c in zip(urzadzenia,naprawy,ceny):\n",
    "        print(u,n,\"-\",c,)\n",
    "        \n",
    "def zapisaniKlienci():\n",
    "    print(dane_klientow)\n",
    "        \n",
    "\n",
    "        "
   ]
  },
  {
   "cell_type": "code",
   "execution_count": 23,
   "id": "66320ebd",
   "metadata": {},
   "outputs": [
    {
     "name": "stdin",
     "output_type": "stream",
     "text": [
      "Podaj id naprawy:  1\n",
      "Podaj nazwę urządzenia:  samsung jd3\n",
      "Podaj rodzaj naprawy:  sybka\n",
      "Podaj cenę naprawy:  sad\n",
      "Podaj prawidłową cenę:  1234\n",
      "Podaj imię i nazwisko klienta:  siemson\n",
      "Podaj numer telefonu klienta:  1234\n",
      "Podaj poprawny numer:  123456789\n"
     ]
    },
    {
     "name": "stdout",
     "output_type": "stream",
     "text": [
      "Dodano naprawę.\n"
     ]
    }
   ],
   "source": [
    "dodajNaprawe()"
   ]
  },
  {
   "cell_type": "code",
   "execution_count": 32,
   "id": "a53e1d51",
   "metadata": {},
   "outputs": [
    {
     "data": {
      "text/plain": [
       "[1]"
      ]
     },
     "execution_count": 32,
     "metadata": {},
     "output_type": "execute_result"
    }
   ],
   "source": [
    "ids"
   ]
  },
  {
   "cell_type": "code",
   "execution_count": 31,
   "id": "28474c17",
   "metadata": {},
   "outputs": [
    {
     "data": {
      "text/plain": [
       "['samsung jd3']"
      ]
     },
     "execution_count": 31,
     "metadata": {},
     "output_type": "execute_result"
    }
   ],
   "source": [
    "urzadzenia"
   ]
  },
  {
   "cell_type": "code",
   "execution_count": 30,
   "id": "db38c367",
   "metadata": {},
   "outputs": [
    {
     "data": {
      "text/plain": [
       "['sybka']"
      ]
     },
     "execution_count": 30,
     "metadata": {},
     "output_type": "execute_result"
    }
   ],
   "source": [
    "naprawy"
   ]
  },
  {
   "cell_type": "code",
   "execution_count": 29,
   "id": "82cf5381",
   "metadata": {},
   "outputs": [
    {
     "data": {
      "text/plain": [
       "{'siemson': '123456789'}"
      ]
     },
     "execution_count": 29,
     "metadata": {},
     "output_type": "execute_result"
    }
   ],
   "source": [
    "dane_klientow"
   ]
  },
  {
   "cell_type": "code",
   "execution_count": 28,
   "id": "8e65f8c0",
   "metadata": {},
   "outputs": [],
   "source": [
    "zapisaneCeny()"
   ]
  },
  {
   "cell_type": "code",
   "execution_count": 27,
   "id": "727987b9",
   "metadata": {},
   "outputs": [
    {
     "name": "stdout",
     "output_type": "stream",
     "text": [
      "{'siemson': '123456789'}\n"
     ]
    }
   ],
   "source": [
    "zapisaniKlienci()"
   ]
  },
  {
   "cell_type": "code",
   "execution_count": 33,
   "id": "602dcc75",
   "metadata": {},
   "outputs": [
    {
     "name": "stdout",
     "output_type": "stream",
     "text": [
      "['1', 'asda', 'asdfasdf', '1234', 'asdf asdfasdf', '123456789']\n",
      "1;samsung jd3;szybki fest;1234;sadasd;123456789\n",
      "\n",
      "1;samsung jd3;sybka;1234;siemson;123456789\n",
      "\n"
     ]
    }
   ],
   "source": [
    "with open('przeglad.csv',newline='\\n') as plik:\n",
    "    dane=csv.reader(plik,delimiter=';',quotechar='\"')\n",
    "    wiersz=next(dane)\n",
    "    print(wiersz)\n",
    "    for wiersz in plik:\n",
    "        print(wiersz)"
   ]
  },
  {
   "cell_type": "code",
   "execution_count": null,
   "id": "af64bf0c",
   "metadata": {},
   "outputs": [],
   "source": [
    "import pandas as pd\n",
    "przeglad=pd.read_csv(\"przeglad.csv\",delimiter=\";\")"
   ]
  },
  {
   "cell_type": "code",
   "execution_count": null,
   "id": "4060aed6",
   "metadata": {},
   "outputs": [
    {
     "data": {
      "text/plain": [
       "(0, 6)"
      ]
     },
     "execution_count": 12,
     "metadata": {},
     "output_type": "execute_result"
    }
   ],
   "source": [
    "przeglad.shape"
   ]
  },
  {
   "cell_type": "code",
   "execution_count": 24,
   "id": "2f91b53a",
   "metadata": {},
   "outputs": [
    {
     "data": {
      "text/html": [
       "<div>\n",
       "<style scoped>\n",
       "    .dataframe tbody tr th:only-of-type {\n",
       "        vertical-align: middle;\n",
       "    }\n",
       "\n",
       "    .dataframe tbody tr th {\n",
       "        vertical-align: top;\n",
       "    }\n",
       "\n",
       "    .dataframe thead th {\n",
       "        text-align: right;\n",
       "    }\n",
       "</style>\n",
       "<table border=\"1\" class=\"dataframe\">\n",
       "  <thead>\n",
       "    <tr style=\"text-align: right;\">\n",
       "      <th></th>\n",
       "      <th>1</th>\n",
       "      <th>asda</th>\n",
       "      <th>asdfasdf</th>\n",
       "      <th>1234</th>\n",
       "      <th>asdf asdfasdf</th>\n",
       "      <th>123456789</th>\n",
       "    </tr>\n",
       "  </thead>\n",
       "  <tbody>\n",
       "  </tbody>\n",
       "</table>\n",
       "</div>"
      ],
      "text/plain": [
       "Empty DataFrame\n",
       "Columns: [1, asda, asdfasdf, 1234, asdf asdfasdf, 123456789]\n",
       "Index: []"
      ]
     },
     "execution_count": 24,
     "metadata": {},
     "output_type": "execute_result"
    }
   ],
   "source": [
    "przeglad"
   ]
  },
  {
   "cell_type": "code",
   "execution_count": null,
   "id": "ca5d9d6a",
   "metadata": {},
   "outputs": [
    {
     "ename": "KeyError",
     "evalue": "'cena'",
     "output_type": "error",
     "traceback": [
      "\u001b[0;31m---------------------------------------------------------------------------\u001b[0m",
      "\u001b[0;31mKeyError\u001b[0m                                  Traceback (most recent call last)",
      "\u001b[0;32m/srv/conda/envs/notebook/lib/python3.7/site-packages/pandas/core/indexes/base.py\u001b[0m in \u001b[0;36mget_loc\u001b[0;34m(self, key, method, tolerance)\u001b[0m\n\u001b[1;32m   3360\u001b[0m             \u001b[0;32mtry\u001b[0m\u001b[0;34m:\u001b[0m\u001b[0;34m\u001b[0m\u001b[0;34m\u001b[0m\u001b[0m\n\u001b[0;32m-> 3361\u001b[0;31m                 \u001b[0;32mreturn\u001b[0m \u001b[0mself\u001b[0m\u001b[0;34m.\u001b[0m\u001b[0m_engine\u001b[0m\u001b[0;34m.\u001b[0m\u001b[0mget_loc\u001b[0m\u001b[0;34m(\u001b[0m\u001b[0mcasted_key\u001b[0m\u001b[0;34m)\u001b[0m\u001b[0;34m\u001b[0m\u001b[0;34m\u001b[0m\u001b[0m\n\u001b[0m\u001b[1;32m   3362\u001b[0m             \u001b[0;32mexcept\u001b[0m \u001b[0mKeyError\u001b[0m \u001b[0;32mas\u001b[0m \u001b[0merr\u001b[0m\u001b[0;34m:\u001b[0m\u001b[0;34m\u001b[0m\u001b[0;34m\u001b[0m\u001b[0m\n",
      "\u001b[0;32m/srv/conda/envs/notebook/lib/python3.7/site-packages/pandas/_libs/index.pyx\u001b[0m in \u001b[0;36mpandas._libs.index.IndexEngine.get_loc\u001b[0;34m()\u001b[0m\n",
      "\u001b[0;32m/srv/conda/envs/notebook/lib/python3.7/site-packages/pandas/_libs/index.pyx\u001b[0m in \u001b[0;36mpandas._libs.index.IndexEngine.get_loc\u001b[0;34m()\u001b[0m\n",
      "\u001b[0;32mpandas/_libs/hashtable_class_helper.pxi\u001b[0m in \u001b[0;36mpandas._libs.hashtable.PyObjectHashTable.get_item\u001b[0;34m()\u001b[0m\n",
      "\u001b[0;32mpandas/_libs/hashtable_class_helper.pxi\u001b[0m in \u001b[0;36mpandas._libs.hashtable.PyObjectHashTable.get_item\u001b[0;34m()\u001b[0m\n",
      "\u001b[0;31mKeyError\u001b[0m: 'cena'",
      "\nThe above exception was the direct cause of the following exception:\n",
      "\u001b[0;31mKeyError\u001b[0m                                  Traceback (most recent call last)",
      "\u001b[0;32m<ipython-input-14-6d0f0760798e>\u001b[0m in \u001b[0;36m<module>\u001b[0;34m\u001b[0m\n\u001b[0;32m----> 1\u001b[0;31m \u001b[0mprzeglad\u001b[0m\u001b[0;34m[\u001b[0m\u001b[0;34m'cena'\u001b[0m\u001b[0;34m]\u001b[0m\u001b[0;34m.\u001b[0m\u001b[0mdescribe\u001b[0m\u001b[0;34m(\u001b[0m\u001b[0;34m)\u001b[0m\u001b[0;34m\u001b[0m\u001b[0;34m\u001b[0m\u001b[0m\n\u001b[0m",
      "\u001b[0;32m/srv/conda/envs/notebook/lib/python3.7/site-packages/pandas/core/frame.py\u001b[0m in \u001b[0;36m__getitem__\u001b[0;34m(self, key)\u001b[0m\n\u001b[1;32m   3456\u001b[0m             \u001b[0;32mif\u001b[0m \u001b[0mself\u001b[0m\u001b[0;34m.\u001b[0m\u001b[0mcolumns\u001b[0m\u001b[0;34m.\u001b[0m\u001b[0mnlevels\u001b[0m \u001b[0;34m>\u001b[0m \u001b[0;36m1\u001b[0m\u001b[0;34m:\u001b[0m\u001b[0;34m\u001b[0m\u001b[0;34m\u001b[0m\u001b[0m\n\u001b[1;32m   3457\u001b[0m                 \u001b[0;32mreturn\u001b[0m \u001b[0mself\u001b[0m\u001b[0;34m.\u001b[0m\u001b[0m_getitem_multilevel\u001b[0m\u001b[0;34m(\u001b[0m\u001b[0mkey\u001b[0m\u001b[0;34m)\u001b[0m\u001b[0;34m\u001b[0m\u001b[0;34m\u001b[0m\u001b[0m\n\u001b[0;32m-> 3458\u001b[0;31m             \u001b[0mindexer\u001b[0m \u001b[0;34m=\u001b[0m \u001b[0mself\u001b[0m\u001b[0;34m.\u001b[0m\u001b[0mcolumns\u001b[0m\u001b[0;34m.\u001b[0m\u001b[0mget_loc\u001b[0m\u001b[0;34m(\u001b[0m\u001b[0mkey\u001b[0m\u001b[0;34m)\u001b[0m\u001b[0;34m\u001b[0m\u001b[0;34m\u001b[0m\u001b[0m\n\u001b[0m\u001b[1;32m   3459\u001b[0m             \u001b[0;32mif\u001b[0m \u001b[0mis_integer\u001b[0m\u001b[0;34m(\u001b[0m\u001b[0mindexer\u001b[0m\u001b[0;34m)\u001b[0m\u001b[0;34m:\u001b[0m\u001b[0;34m\u001b[0m\u001b[0;34m\u001b[0m\u001b[0m\n\u001b[1;32m   3460\u001b[0m                 \u001b[0mindexer\u001b[0m \u001b[0;34m=\u001b[0m \u001b[0;34m[\u001b[0m\u001b[0mindexer\u001b[0m\u001b[0;34m]\u001b[0m\u001b[0;34m\u001b[0m\u001b[0;34m\u001b[0m\u001b[0m\n",
      "\u001b[0;32m/srv/conda/envs/notebook/lib/python3.7/site-packages/pandas/core/indexes/base.py\u001b[0m in \u001b[0;36mget_loc\u001b[0;34m(self, key, method, tolerance)\u001b[0m\n\u001b[1;32m   3361\u001b[0m                 \u001b[0;32mreturn\u001b[0m \u001b[0mself\u001b[0m\u001b[0;34m.\u001b[0m\u001b[0m_engine\u001b[0m\u001b[0;34m.\u001b[0m\u001b[0mget_loc\u001b[0m\u001b[0;34m(\u001b[0m\u001b[0mcasted_key\u001b[0m\u001b[0;34m)\u001b[0m\u001b[0;34m\u001b[0m\u001b[0;34m\u001b[0m\u001b[0m\n\u001b[1;32m   3362\u001b[0m             \u001b[0;32mexcept\u001b[0m \u001b[0mKeyError\u001b[0m \u001b[0;32mas\u001b[0m \u001b[0merr\u001b[0m\u001b[0;34m:\u001b[0m\u001b[0;34m\u001b[0m\u001b[0;34m\u001b[0m\u001b[0m\n\u001b[0;32m-> 3363\u001b[0;31m                 \u001b[0;32mraise\u001b[0m \u001b[0mKeyError\u001b[0m\u001b[0;34m(\u001b[0m\u001b[0mkey\u001b[0m\u001b[0;34m)\u001b[0m \u001b[0;32mfrom\u001b[0m \u001b[0merr\u001b[0m\u001b[0;34m\u001b[0m\u001b[0;34m\u001b[0m\u001b[0m\n\u001b[0m\u001b[1;32m   3364\u001b[0m \u001b[0;34m\u001b[0m\u001b[0m\n\u001b[1;32m   3365\u001b[0m         \u001b[0;32mif\u001b[0m \u001b[0mis_scalar\u001b[0m\u001b[0;34m(\u001b[0m\u001b[0mkey\u001b[0m\u001b[0;34m)\u001b[0m \u001b[0;32mand\u001b[0m \u001b[0misna\u001b[0m\u001b[0;34m(\u001b[0m\u001b[0mkey\u001b[0m\u001b[0;34m)\u001b[0m \u001b[0;32mand\u001b[0m \u001b[0;32mnot\u001b[0m \u001b[0mself\u001b[0m\u001b[0;34m.\u001b[0m\u001b[0mhasnans\u001b[0m\u001b[0;34m:\u001b[0m\u001b[0;34m\u001b[0m\u001b[0;34m\u001b[0m\u001b[0m\n",
      "\u001b[0;31mKeyError\u001b[0m: 'cena'"
     ]
    }
   ],
   "source": [
    "przeglad['cena'].describe()"
   ]
  },
  {
   "cell_type": "code",
   "execution_count": 106,
   "id": "360bfb60",
   "metadata": {},
   "outputs": [],
   "source": [
    "wymianyszybek=przeglad[(przeglad['naprawa']==\"wymiana szybki\")]"
   ]
  },
  {
   "cell_type": "code",
   "execution_count": null,
   "id": "8f7983de",
   "metadata": {},
   "outputs": [],
   "source": [
    "wymianyszybek"
   ]
  },
  {
   "cell_type": "code",
   "execution_count": 113,
   "id": "cd5f0b59",
   "metadata": {},
   "outputs": [],
   "source": [
    "wymianywyswietlaczy=przeglad[(przeglad['naprawa']==\"wymiana wyswietlacza\")]"
   ]
  },
  {
   "cell_type": "code",
   "execution_count": null,
   "id": "efdee9b9",
   "metadata": {},
   "outputs": [],
   "source": [
    "wymianywyswietlaczy"
   ]
  },
  {
   "cell_type": "code",
   "execution_count": 116,
   "id": "479583bc",
   "metadata": {},
   "outputs": [],
   "source": [
    "wymianybaterii=przeglad[(przeglad['naprawa']==\"wymiana baterii\")]"
   ]
  },
  {
   "cell_type": "code",
   "execution_count": null,
   "id": "dc90ae2a",
   "metadata": {},
   "outputs": [],
   "source": [
    "wymianybaterii"
   ]
  },
  {
   "cell_type": "code",
   "execution_count": 95,
   "id": "36c296e9",
   "metadata": {},
   "outputs": [],
   "source": [
    "import csv\n",
    "def szukajId():\n",
    "    id = input(\"Podaj id naprawy: \")\n",
    "    with open(\"przeglad.csv\") as file:\n",
    "        przeglad = csv.reader(file,delimiter=\";\")\n",
    "        for p in przeglad:\n",
    "            try:\n",
    "                if p[0] == id:\n",
    "                    print(p)\n",
    "            except:\n",
    "                print(\"Odczytano\")\n",
    "            \n",
    "            \n",
    "            \n",
    "def szukajUrzadzenia():\n",
    "    urzadzenie = input(\"Podaj nazwe urzadzenia: \")\n",
    "    with open(\"przeglad.csv\") as file:\n",
    "        przeglad = csv.reader(file,delimiter=\";\")\n",
    "        for p in przeglad:\n",
    "            try:\n",
    "                if p[1] == urzadzenie:\n",
    "                    print(p)\n",
    "            except:\n",
    "                print(\"Odczytano\")\n",
    "                \n",
    "def szukajNaprawy():\n",
    "    naprawa = input(\"Podaj rodzaj naprawy: \")\n",
    "    with open(\"przeglad.csv\") as file:\n",
    "        przeglad = csv.reader(file,delimiter=\";\")\n",
    "        for p in przeglad:\n",
    "            try:\n",
    "                if p[2] == naprawa:\n",
    "                    print(p)\n",
    "            except:\n",
    "                print(\"Odczytano\")\n",
    "                \n",
    "def szukajCeny():\n",
    "    cena = input(\"Podaj cenę naprawy: \")\n",
    "    with open(\"przeglad.csv\") as file:\n",
    "        przeglad = csv.reader(file,delimiter=\";\")\n",
    "        for p in przeglad:\n",
    "            try:\n",
    "                if p[3] == cena:\n",
    "                    print(p)\n",
    "            except:\n",
    "                print(\"Odczytano\")\n",
    "\n",
    "def szukajImieNazwisko():\n",
    "    imie_nazwisko = input(\"Podaj imię i nazwisko klienta: \")\n",
    "    with open(\"przeglad.csv\") as file:\n",
    "        przeglad = csv.reader(file,delimiter=\";\")\n",
    "        for p in przeglad:\n",
    "            try:\n",
    "                if p[4] == imie_nazwisko:\n",
    "                    print(p)\n",
    "            except:\n",
    "                print(\"Odczytano\")\n",
    "                \n",
    "def szukajNumerTelefonu():\n",
    "    numer_telefonu = input(\"Podaj numer telefonu: \")\n",
    "    with open(\"przeglad.csv\") as file:\n",
    "        przeglad = csv.reader(file,delimiter=\";\")\n",
    "        for p in przeglad:\n",
    "            try:\n",
    "                if p[5] == numer_telefonu:\n",
    "                    print(p)\n",
    "            except:\n",
    "                print(\"Odczytano\")\n"
   ]
  },
  {
   "cell_type": "code",
   "execution_count": null,
   "id": "c0c3d6a4",
   "metadata": {},
   "outputs": [],
   "source": [
    "szukajId()"
   ]
  },
  {
   "cell_type": "code",
   "execution_count": null,
   "id": "396a9b5d",
   "metadata": {},
   "outputs": [],
   "source": [
    "szukajUrzadzenia()"
   ]
  },
  {
   "cell_type": "code",
   "execution_count": null,
   "id": "c1aa7046",
   "metadata": {},
   "outputs": [],
   "source": [
    "szukajNaprawy()"
   ]
  },
  {
   "cell_type": "code",
   "execution_count": null,
   "id": "e0a496d8",
   "metadata": {},
   "outputs": [],
   "source": [
    "szukajCeny()"
   ]
  },
  {
   "cell_type": "code",
   "execution_count": null,
   "id": "23ccbdc5",
   "metadata": {},
   "outputs": [],
   "source": [
    "szukajImieNazwisko()"
   ]
  },
  {
   "cell_type": "code",
   "execution_count": null,
   "id": "18f57f86",
   "metadata": {},
   "outputs": [],
   "source": [
    "szukajNumerTelefonu()"
   ]
  }
 ],
 "metadata": {
  "kernelspec": {
   "display_name": "Python 3",
   "language": "python",
   "name": "python3"
  },
  "language_info": {
   "codemirror_mode": {
    "name": "ipython",
    "version": 3
   },
   "file_extension": ".py",
   "mimetype": "text/x-python",
   "name": "python",
   "nbconvert_exporter": "python",
   "pygments_lexer": "ipython3",
   "version": "3.7.8"
  }
 },
 "nbformat": 4,
 "nbformat_minor": 5
}
